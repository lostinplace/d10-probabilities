{
 "cells": [
  {
   "cell_type": "markdown",
   "metadata": {},
   "source": [
    "Rules\n",
    "=======\n",
    "\n",
    "\n",
    "each die being cast = 1 draw of the card\n",
    "the difficulty is the minimum card score that must be achieved (50% is 7)\n",
    "\n",
    "major arcana: \n",
    "\n",
    "* 0-6 are 10s (explode with specialization)\n",
    "* 7-9 are always successes\n",
    "* 10 is held to force reshuffle\n",
    "* 11-13 are always failures\n",
    "* 14-20 subtract successes\n",
    "\n",
    "minor arcana:\n",
    "\n",
    "+ card values are 1-14 (1-10)(PNQK: 11-14)\n",
    "+ Suit is specified by the nature of the roll\n",
    "  + Primordialism/cups for nephandic / destruction\n",
    "  + Dynamism/swords for marauder / creation\n",
    "  + Pattern/coins for technocracy / structures\n",
    "  + Questing/rods for magic / willpower\n",
    "+ if at the end of your draw you have more cards from a supporting suit than an opposing suit, you receive an extra success\n",
    "\n",
    "dictionary:\n",
    "\n",
    "\n",
    "+ G: Major Arcana Guaranteed Success (3/77)\n",
    "+ T: Major Arcana exploding (7/77)\n",
    "+ B: Major Arcana Guaranteed Failure (3/77)\n",
    "+ O: Major Arcana subtractive (7/77)\n",
    "+ +: Minor Arcana Success (suit meaningless)\n",
    "+ -: Minor Arcana Failure (suit meaningless)\n",
    "+ S: Minor Arcana suited success\n",
    "+ s: Minor arcana suited failure\n",
    "+ A: Minor Arcana anti-suited success\n",
    "+ a: Minor arcana anti-suited failure\n"
   ]
  },
  {
   "cell_type": "code",
   "execution_count": 15,
   "metadata": {
    "collapsed": false
   },
   "outputs": [
    {
     "data": {
      "text/plain": [
       "0.1794871794871795"
      ]
     },
     "execution_count": 15,
     "metadata": {},
     "output_type": "execute_result"
    }
   ],
   "source": [
    "14/78"
   ]
  },
  {
   "cell_type": "code",
   "execution_count": 1,
   "metadata": {
    "collapsed": true
   },
   "outputs": [],
   "source": [
    "%matplotlib inline\n",
    "\n",
    "import matplotlib\n",
    "import numpy as np\n",
    "import matplotlib.pyplot as plt\n",
    "\n",
    "import pylab as P\n",
    "\n",
    "import scipy\n",
    "import itertools\n",
    "import functools\n",
    "from d10_probabilities import *"
   ]
  },
  {
   "cell_type": "code",
   "execution_count": 4,
   "metadata": {
    "collapsed": false
   },
   "outputs": [
    {
     "data": {
      "text/plain": [
       "0.358974358974359"
      ]
     },
     "execution_count": 4,
     "metadata": {},
     "output_type": "execute_result"
    }
   ],
   "source": [
    "default_probabilities = {\n",
    "    'S': 0.4, \n",
    "    'F':0.4, \n",
    "    'O': 0.1, \n",
    "    'T':0.1\n",
    "}"
   ]
  },
  {
   "cell_type": "code",
   "execution_count": 8,
   "metadata": {
    "collapsed": false
   },
   "outputs": [
    {
     "data": {
      "text/plain": [
       "0.6025641025641025"
      ]
     },
     "execution_count": 8,
     "metadata": {},
     "output_type": "execute_result"
    }
   ],
   "source": [
    "# diff 8\n",
    "# s: 0.2   f:0.6\n",
    "\n",
    "47/78"
   ]
  },
  {
   "cell_type": "code",
   "execution_count": 14,
   "metadata": {
    "collapsed": false
   },
   "outputs": [
    {
     "data": {
      "text/plain": [
       "0.19230769230769232"
      ]
     },
     "execution_count": 14,
     "metadata": {},
     "output_type": "execute_result"
    }
   ],
   "source": [
    "((56-44)+3)/78"
   ]
  }
 ],
 "metadata": {
  "kernelspec": {
   "display_name": "Python 3",
   "language": "python",
   "name": "python3"
  },
  "language_info": {
   "codemirror_mode": {
    "name": "ipython",
    "version": 3
   },
   "file_extension": ".py",
   "mimetype": "text/x-python",
   "name": "python",
   "nbconvert_exporter": "python",
   "pygments_lexer": "ipython3",
   "version": "3.4.3"
  }
 },
 "nbformat": 4,
 "nbformat_minor": 0
}
