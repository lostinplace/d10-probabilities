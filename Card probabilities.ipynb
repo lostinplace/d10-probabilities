{
 "cells": [
  {
   "cell_type": "markdown",
   "metadata": {},
   "source": [
    "Rules\n",
    "=======\n",
    "\n",
    "\n",
    "each die being cast = 1 draw of the card\n",
    "the difficulty is the minimum card score that must be achieved (50% is 7)\n",
    "\n",
    "major arcana: \n",
    "\n",
    "* 0-6 are 10s (explode with specialization)\n",
    "* 7-9 are always successes\n",
    "* 10 is held to force reshuffle\n",
    "* 11-13 are always failures\n",
    "* 14-20 subtract successes\n",
    "\n",
    "minor arcana:\n",
    "\n",
    "+ card values are 1-14 (1-10)(PNQK: 11-14)\n",
    "+ Suit is specified by the nature of the roll\n",
    "  + Primordialism/cups for nephandic / destruction\n",
    "  + Dynamism/swords for marauder / creation\n",
    "  + Pattern/coins for technocracy / structures\n",
    "  + Questing/rods for magic / willpower\n",
    "+ if at the end of your draw you have more cards from a supporting suit than an opposing suit, you receive an extra success\n",
    "\n",
    "dictionary:\n",
    "\n",
    "\n",
    "+ G: Major Arcana Guaranteed Success (3/77)\n",
    "+ T: Major Arcana exploding (7/77)\n",
    "+ B: Major Arcana Guaranteed Failure (3/77)\n",
    "+ O: Major Arcana subtractive (7/77)\n",
    "+ +: Minor Arcana Success (suit meaningless)\n",
    "+ -: Minor Arcana Failure (suit meaningless)\n",
    "+ S: Minor Arcana suited success\n",
    "+ s: Minor arcana suited failure\n",
    "+ A: Minor Arcana anti-suited success\n",
    "+ a: Minor arcana anti-suited failure\n"
   ]
  },
  {
   "cell_type": "code",
   "execution_count": 2,
   "metadata": {
    "collapsed": false
   },
   "outputs": [
    {
     "data": {
      "text/plain": [
       "0.1794871794871795"
      ]
     },
     "execution_count": 2,
     "metadata": {},
     "output_type": "execute_result"
    }
   ],
   "source": [
    "14/78"
   ]
  },
  {
   "cell_type": "code",
   "execution_count": 3,
   "metadata": {
    "collapsed": true
   },
   "outputs": [],
   "source": [
    "%matplotlib inline\n",
    "\n",
    "\n",
    "import numpy as np\n",
    "import matplotlib.pyplot as plt\n",
    "from copy import *\n",
    "import pylab as P\n",
    "\n",
    "import itertools\n",
    "import functools\n"
   ]
  },
  {
   "cell_type": "code",
   "execution_count": 4,
   "metadata": {
    "collapsed": false
   },
   "outputs": [],
   "source": [
    "default_probabilities = {\n",
    "    \"G\": 3/77,\n",
    "    \"T\": 7/77,\n",
    "    \"B\": 3/77,\n",
    "    \"O\": 7/77,\n",
    "    \"+\": 14/77,\n",
    "    \"-\": 14/77,\n",
    "    \"S\": 7/77,\n",
    "    \"s\": 7/77,\n",
    "    \"A\": 7/77,\n",
    "    \"a\": 7/77\n",
    "}"
   ]
  },
  {
   "cell_type": "code",
   "execution_count": 5,
   "metadata": {
    "collapsed": false
   },
   "outputs": [],
   "source": [
    "def get_probabilities_for_rules(target_number, suit_matters=True):\n",
    "    tmp = default_probabilities.copy()\n",
    "    number_successes = 14 - target_number\n",
    "    number_failures = 14 - number_successes\n",
    "    if(suit_matters):\n",
    "        tmp[\"S\"] = tmp[\"A\"] = number_successes / 77\n",
    "        tmp[\"s\"] = tmp[\"s\"] = number_failures / 77\n",
    "        tmp[\"+\"] = (number_successes * 2) / 77\n",
    "        tmp[\"-\"] = (number_failures * 2) / 77\n",
    "    else:\n",
    "        tmp[\"S\"] = tmp[\"A\"] = tmp[\"+\"] = (number_successes * 4) / 77\n",
    "        tmp[\"s\"] = tmp[\"s\"] = tmp[\"-\"] = (number_failures * 4) / 77\n",
    "    \n",
    "    return tmp"
   ]
  },
  {
   "cell_type": "code",
   "execution_count": 6,
   "metadata": {
    "collapsed": true
   },
   "outputs": [],
   "source": [
    "def create_draws(number_of_cards):\n",
    "    elements = list(default_probabilities.keys())\n",
    "    return itertools.product(elements, repeat=number_of_cards)\n",
    "    "
   ]
  },
  {
   "cell_type": "code",
   "execution_count": 7,
   "metadata": {
    "collapsed": false
   },
   "outputs": [
    {
     "data": {
      "text/plain": [
       "{'+': 0.36363636363636365,\n",
       " '-': 0.36363636363636365,\n",
       " 'A': 0.36363636363636365,\n",
       " 'B': 0.03896103896103896,\n",
       " 'G': 0.03896103896103896,\n",
       " 'O': 0.09090909090909091,\n",
       " 'S': 0.36363636363636365,\n",
       " 'T': 0.09090909090909091,\n",
       " 'a': 0.09090909090909091,\n",
       " 's': 0.36363636363636365}"
      ]
     },
     "execution_count": 7,
     "metadata": {},
     "output_type": "execute_result"
    }
   ],
   "source": [
    "get_probabilities_for_rules(7, False)"
   ]
  },
  {
   "cell_type": "code",
   "execution_count": 9,
   "metadata": {
    "collapsed": false
   },
   "outputs": [
    {
     "data": {
      "text/plain": [
       "10000"
      ]
     },
     "execution_count": 9,
     "metadata": {},
     "output_type": "execute_result"
    }
   ],
   "source": [
    "x = create_draws(4)\n",
    "len(list(x))"
   ]
  }
 ],
 "metadata": {
  "kernelspec": {
   "display_name": "Python 3",
   "language": "python",
   "name": "python3"
  },
  "language_info": {
   "codemirror_mode": {
    "name": "ipython",
    "version": 3
   },
   "file_extension": ".py",
   "mimetype": "text/x-python",
   "name": "python",
   "nbconvert_exporter": "python",
   "pygments_lexer": "ipython3",
   "version": "3.4.3"
  }
 },
 "nbformat": 4,
 "nbformat_minor": 0
}
