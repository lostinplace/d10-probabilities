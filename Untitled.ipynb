{
 "cells": [
  {
   "cell_type": "code",
   "execution_count": 7,
   "metadata": {
    "collapsed": false
   },
   "outputs": [
    {
     "data": {
      "text/plain": [
       "84"
      ]
     },
     "execution_count": 7,
     "metadata": {},
     "output_type": "execute_result"
    }
   ],
   "source": [
    "val textFile = sc.textFile(\"d10_probabilities.py\")\n",
    "textFile.count()"
   ]
  }
 ],
 "metadata": {
  "kernelspec": {
   "display_name": "Spark 1.4.1 (python)",
   "language": "python",
   "name": "spark-kernel-python"
  },
  "language_info": {
   "name": "scala"
  }
 },
 "nbformat": 4,
 "nbformat_minor": 0
}
